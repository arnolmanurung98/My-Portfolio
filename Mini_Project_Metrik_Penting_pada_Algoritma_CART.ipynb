{
  "nbformat": 4,
  "nbformat_minor": 0,
  "metadata": {
    "colab": {
      "provenance": []
    },
    "kernelspec": {
      "name": "python3",
      "display_name": "Python 3"
    },
    "language_info": {
      "name": "python"
    }
  },
  "cells": [
    {
      "cell_type": "markdown",
      "source": [
        "# Mini Project\n",
        "Walaupun model Decision Tree Classifier yang aku buat sudah layak digunakan, aku ingin memahami cara mengukur kinerja sebuah model klasifikasi menggunakan Confusion Matrix. Maka, aku mengambil sebuah mini project untuk kukerjakan.\n",
        "\n",
        "Dalam project ini, aku telah memiliki sebuah hasil prediksi model klasifikasi biner yang diberikan oleh\n",
        "\n",
        "y_predict = [1,0,0,0,1,1,1,1,1,1,0,0,0,0,0,1,1,0,0,0]\n",
        "dan nilai aktualnya diberikan oleh\n",
        "\n",
        "y_actual = [1,1,1,1,1,1,1,1,1,1,0,0,0,0,0,0,0,0,0,0]\n",
        "Aku ingin menentukan\n",
        "\n",
        "confusion matrik untuk nilai aktual dan prediksi\n",
        "true positive (TP)\n",
        "false negative (FN)\n",
        "false positive (FP)\n",
        "true negative (TN)\n",
        "akurasi model\n",
        "skor precision\n",
        "skor recall\n",
        "skor f1"
      ],
      "metadata": {
        "id": "jLdCc57mepJh"
      }
    },
    {
      "cell_type": "code",
      "execution_count": 1,
      "metadata": {
        "id": "vS7CrYmeeiWw"
      },
      "outputs": [],
      "source": [
        "#Impor library scikit learn & pandas\n",
        "from sklearn import metrics\n",
        "import pandas as pd"
      ]
    },
    {
      "cell_type": "code",
      "source": [
        "#Nilai aktual: 1 untuk Positif dan 0 untuk Negatif\n",
        "y_actual = [1,0,0,0,1,1,1,1,1,1,0,0,0,0,0,1,1,0,0,0]\n",
        "\n",
        "#Nilai hasil prediksi:\n",
        "y_predict = [1,1,1,1,1,1,1,1,1,1,0,0,0,0,0,0,0,0,0,0]"
      ],
      "metadata": {
        "id": "OBbb_zkwe1u5"
      },
      "execution_count": 2,
      "outputs": []
    },
    {
      "cell_type": "code",
      "source": [
        "#Confusion matrix untuk nilai aktual dan prediksi.\n",
        "matrix = metrics.confusion_matrix(y_actual, y_predict, labels=[1,0])\n",
        "print('Confusion matrix:')\n",
        "print(matrix)\n",
        "print()"
      ],
      "metadata": {
        "colab": {
          "base_uri": "https://localhost:8080/",
          "height": 0
        },
        "id": "Oq-edUp6e4WR",
        "outputId": "ab694b65-547d-4a5a-a977-8c16832d174c"
      },
      "execution_count": 3,
      "outputs": [
        {
          "output_type": "stream",
          "name": "stdout",
          "text": [
            "Confusion matrix:\n",
            "[[7 2]\n",
            " [3 8]]\n",
            "\n"
          ]
        }
      ]
    },
    {
      "cell_type": "code",
      "source": [
        "#Hasil perhitungan TP, FN, FP, dan TN dari confusion matrix\n",
        "TP, FN, FP, TN = metrics.confusion_matrix(y_actual, y_predict, labels=[1,0]).reshape(-1)\n",
        "print('True Positive  =', TP)\n",
        "print('False Negative =', FN)\n",
        "print('False Positive =', FP)\n",
        "print('True Negative  =', TN)"
      ],
      "metadata": {
        "colab": {
          "base_uri": "https://localhost:8080/",
          "height": 0
        },
        "id": "JDgHH_1he6u0",
        "outputId": "4801da75-a65e-4d7f-ee22-027ba5496861"
      },
      "execution_count": 4,
      "outputs": [
        {
          "output_type": "stream",
          "name": "stdout",
          "text": [
            "True Positive  = 7\n",
            "False Negative = 2\n",
            "False Positive = 3\n",
            "True Negative  = 8\n"
          ]
        }
      ]
    },
    {
      "cell_type": "code",
      "source": [
        "#Hitung nilai akurasi dari model\n",
        "accuracy = metrics.accuracy_score(y_actual, y_predict)\n",
        "print('Accuracy =', accuracy)"
      ],
      "metadata": {
        "colab": {
          "base_uri": "https://localhost:8080/",
          "height": 0
        },
        "id": "TCTcbsbme9UG",
        "outputId": "d8b054b4-b380-4ce5-8188-2a31a7382e7d"
      },
      "execution_count": 5,
      "outputs": [
        {
          "output_type": "stream",
          "name": "stdout",
          "text": [
            "Accuracy = 0.75\n"
          ]
        }
      ]
    },
    {
      "cell_type": "code",
      "source": [
        "#Hitung nilai Precision\n",
        "precision = metrics.precision_score(y_actual, y_predict)\n",
        "print('Precision =', precision)"
      ],
      "metadata": {
        "colab": {
          "base_uri": "https://localhost:8080/",
          "height": 0
        },
        "id": "1eW0Cd8se_Mq",
        "outputId": "9797b8c4-9bae-4876-f691-6c67c25db117"
      },
      "execution_count": 6,
      "outputs": [
        {
          "output_type": "stream",
          "name": "stdout",
          "text": [
            "Precision = 0.7\n"
          ]
        }
      ]
    },
    {
      "cell_type": "code",
      "source": [
        "#Hitung nilai Recall\n",
        "recall = metrics.recall_score(y_actual, y_predict)\n",
        "print('Recall =', recall)"
      ],
      "metadata": {
        "colab": {
          "base_uri": "https://localhost:8080/",
          "height": 0
        },
        "id": "2jozRl-7fA6M",
        "outputId": "43ee971f-ebb5-405e-c0fa-42725fa948a6"
      },
      "execution_count": 7,
      "outputs": [
        {
          "output_type": "stream",
          "name": "stdout",
          "text": [
            "Recall = 0.7777777777777778\n"
          ]
        }
      ]
    },
    {
      "cell_type": "code",
      "source": [
        "#Hitung F1-Score\n",
        "f1 = metrics.f1_score(y_actual, y_predict)\n",
        "print('F1-Score =', f1)"
      ],
      "metadata": {
        "colab": {
          "base_uri": "https://localhost:8080/",
          "height": 0
        },
        "id": "pGdXrPoCfDFf",
        "outputId": "653c6770-7ce7-43ee-c270-dd2a9eba5212"
      },
      "execution_count": 8,
      "outputs": [
        {
          "output_type": "stream",
          "name": "stdout",
          "text": [
            "F1-Score = 0.7368421052631577\n"
          ]
        }
      ]
    }
  ]
}