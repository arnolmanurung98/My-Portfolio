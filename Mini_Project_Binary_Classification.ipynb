{
  "nbformat": 4,
  "nbformat_minor": 0,
  "metadata": {
    "colab": {
      "provenance": []
    },
    "kernelspec": {
      "name": "python3",
      "display_name": "Python 3"
    },
    "language_info": {
      "name": "python"
    }
  },
  "cells": [
    {
      "cell_type": "markdown",
      "source": [
        "# Mini Project #1: Decision Tree\n",
        "Melihat proses parameterisasi model berpotensi untuk menghasilkan model Decision Tree yang lebih baik, Sunyi ingin mencoba mengembangkan model untuk kombinasi nilai parameter berikut.\n",
        "\n",
        "max_depth : 24, 28, 32, 36\n",
        "\n",
        "min_samples_split : 6, 7, 8, 9, 10"
      ],
      "metadata": {
        "id": "_LlnMJhxaqlH"
      }
    },
    {
      "cell_type": "code",
      "execution_count": 1,
      "metadata": {
        "id": "I29mm90xahQ-"
      },
      "outputs": [],
      "source": [
        "#Kode program sebelumnya\n",
        "import pandas as pd\n",
        "from sklearn.preprocessing import LabelEncoder\n",
        "from sklearn.model_selection import train_test_split\n",
        "\n",
        "pd.set_option('display.max_column', 20)"
      ]
    },
    {
      "cell_type": "code",
      "source": [
        "df = pd.read_excel('https://storage.googleapis.com/dqlab-dataset/cth_churn_analysis_train.xlsx')\n",
        "df.drop('ID_Customer', axis=1, inplace=True)\n",
        "df.drop('harga_per_bulan', axis=1, inplace=True)\n",
        "df.drop('jumlah_harga_langganan', axis=1, inplace=True)"
      ],
      "metadata": {
        "id": "Ghl3fnuka7C4"
      },
      "execution_count": 2,
      "outputs": []
    },
    {
      "cell_type": "code",
      "source": [
        "y = df.pop('churn').to_list()\n",
        "y = [1 if label == 'Yes' else 0 for label in y]"
      ],
      "metadata": {
        "id": "H-TOv39oa9we"
      },
      "execution_count": 3,
      "outputs": []
    },
    {
      "cell_type": "code",
      "source": [
        "labelers = {}\n",
        "column_categorical_non_binary = []\n",
        "for col in df.select_dtypes(include=['object']):\n",
        "    if len(df[col].unique()) == 2:\n",
        "        labelers[col] = LabelEncoder()\n",
        "        df[col] = labelers[col].fit_transform(df[col])\n",
        "    else:\n",
        "        column_categorical_non_binary.append(col)"
      ],
      "metadata": {
        "id": "SePtT93qa_Yn"
      },
      "execution_count": 4,
      "outputs": []
    },
    {
      "cell_type": "code",
      "source": [
        "df = pd.get_dummies(df, columns=column_categorical_non_binary)\n",
        "X = df.to_numpy()\n",
        "X_train, X_test, y_train, y_test = train_test_split(X,y, test_size=0.1, random_state=23)"
      ],
      "metadata": {
        "id": "u-q4-4WSbN9q"
      },
      "execution_count": 5,
      "outputs": []
    },
    {
      "cell_type": "code",
      "source": [
        "from sklearn.tree import DecisionTreeClassifier\n",
        "from sklearn.metrics import accuracy_score"
      ],
      "metadata": {
        "id": "pBK1018rbS0D"
      },
      "execution_count": 6,
      "outputs": []
    },
    {
      "cell_type": "code",
      "source": [
        "#mendefinisikan nilai dari parameter 'min_samples_split' yang akan dicobakan\n",
        "min_samples_split_search = [6, 7, 8, 9, 10]\n",
        "#mendefinisikan nilai dari parameter 'max_depth' yang akan dicobakan\n",
        "max_depth_search = [24, 28, 32, 36]"
      ],
      "metadata": {
        "id": "CCE6Wr-PbVBF"
      },
      "execution_count": 7,
      "outputs": []
    },
    {
      "cell_type": "code",
      "source": [
        "max_score = 0\n",
        "best_model = None"
      ],
      "metadata": {
        "id": "XjZTj729bcAC"
      },
      "execution_count": 8,
      "outputs": []
    },
    {
      "cell_type": "code",
      "source": [
        "for ms in min_samples_split_search:\n",
        "\tfor md in max_depth_search:\n",
        "\t\tmodel = DecisionTreeClassifier(min_samples_split=ms, max_depth=md, random_state=57)\n",
        "\n",
        "\t\tmodel.fit(X_train,y_train)\n",
        "\n",
        "\t\t#melakukan prediksi terhadap data X_test\n",
        "\t\ty_pred = model.predict(X_test)\n",
        "\n",
        "\t\t#menghitung skor berdasarkan nilai aktual (y_test) dan (y_pred)\n",
        "\t\tscore = accuracy_score(y_test,y_pred)\n",
        "\n",
        "\t\t#jika score yang dihasilkan oleh model lebih besar dari skor\n",
        "\t\t#terbesar yang dicatat (max_score), maka\n",
        "\t\tif max_score < score:\n",
        "\t\t\tbest_model = model\n",
        "\t\t\tmax_score = score"
      ],
      "metadata": {
        "id": "DmW1Mk2gbfu6"
      },
      "execution_count": 9,
      "outputs": []
    },
    {
      "cell_type": "code",
      "source": [
        "print(\"Skor testing terbaik: \",max_score)\n",
        "print(\"Parameter model: max_depth=\",\n",
        "      best_model.get_params()['max_depth'],\n",
        "      \", min_samples_split=\",\n",
        "      best_model.get_params()['min_samples_split'])"
      ],
      "metadata": {
        "colab": {
          "base_uri": "https://localhost:8080/"
        },
        "id": "v7w0PqoRbg24",
        "outputId": "48b18468-5e0e-42f8-9f56-c56185ee46c7"
      },
      "execution_count": 10,
      "outputs": [
        {
          "output_type": "stream",
          "name": "stdout",
          "text": [
            "Skor testing terbaik:  0.44\n",
            "Parameter model: max_depth= 24 , min_samples_split= 6\n"
          ]
        }
      ]
    },
    {
      "cell_type": "markdown",
      "source": [
        "# Mini Project #2: Random Forest\n",
        "Dikarenakan masih penasaran terkait dengan akurasi dari model Random Forest yang dikembangkan Sunyi diam-diam ingin mencoba sekumpulan nilai parameter yang berbeda seperti pada bagian di bawah ini.\n",
        "\n",
        "max_depth :6, 8, 10, 12, 16\n",
        "\n",
        "min_samples_split : 4, 5, 6, 7, 8\n",
        "\n",
        "n_estimators : 20, 30, 40, 50, 60"
      ],
      "metadata": {
        "id": "3Zg5XD3HbvXJ"
      }
    },
    {
      "cell_type": "code",
      "source": [
        "from sklearn.ensemble import RandomForestClassifier"
      ],
      "metadata": {
        "id": "SA1Ra2hDb4gv"
      },
      "execution_count": 11,
      "outputs": []
    },
    {
      "cell_type": "code",
      "source": [
        "#parameter untuk mengatur setiap Decision Tree yang akan dibentuk pada model Random Forest\n",
        "min_samples_split_search = [4, 5, 6, 7, 8]\n",
        "max_depth_search = [6, 8, 10, 12, 16]"
      ],
      "metadata": {
        "id": "r42QJaewcBhX"
      },
      "execution_count": 12,
      "outputs": []
    },
    {
      "cell_type": "code",
      "source": [
        "#parameter untuk mengatur jumlah model Decision Tree yang akan terbentuk pada model Random Forest\n",
        "n_estimators_search = [20, 30, 40, 50, 60]"
      ],
      "metadata": {
        "id": "VjjSM-sYcEAK"
      },
      "execution_count": 13,
      "outputs": []
    },
    {
      "cell_type": "code",
      "source": [
        "max_score = 0\n",
        "best_model = None\n",
        "for ms in min_samples_split_search:\n",
        "\tfor md in max_depth_search:\n",
        "\t\tfor ne in n_estimators_search:\n",
        "\t\t\tmodel = RandomForestClassifier(n_estimators = ne, min_samples_split=ms, max_depth=md, random_state=57)\n",
        "\t\t\tmodel.fit(X_train,y_train)\n",
        "\t\t\ty_pred = model.predict(X_test)\n",
        "\t\t\tscore = accuracy_score(y_test,y_pred)\n",
        "\t\t\tif max_score < score:\n",
        "\t\t\t\tbest_model = model\n",
        "\t\t\t\tmax_score = score"
      ],
      "metadata": {
        "id": "YBZf5fCDcF5Q"
      },
      "execution_count": 14,
      "outputs": []
    },
    {
      "cell_type": "code",
      "source": [
        "print(\"Skor testing terbaik: \",max_score)\n",
        "print(\"Parameter model: max_depth=\",\n",
        "      best_model.get_params()['max_depth'],\n",
        "      \", min_samples_split=\",\n",
        "      best_model.get_params()['min_samples_split'],\n",
        "      \", n_estimators=\",\n",
        "      best_model.get_params()['n_estimators']\n",
        "      )"
      ],
      "metadata": {
        "colab": {
          "base_uri": "https://localhost:8080/"
        },
        "id": "dahzZIcycLJN",
        "outputId": "04469a10-c225-4dc7-d40f-f44a7dcf06af"
      },
      "execution_count": 15,
      "outputs": [
        {
          "output_type": "stream",
          "name": "stdout",
          "text": [
            "Skor testing terbaik:  0.54\n",
            "Parameter model: max_depth= 12 , min_samples_split= 5 , n_estimators= 40\n"
          ]
        }
      ]
    }
  ]
}