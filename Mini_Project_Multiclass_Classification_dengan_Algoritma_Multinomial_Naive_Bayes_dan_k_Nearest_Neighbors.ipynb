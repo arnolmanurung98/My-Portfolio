{
  "nbformat": 4,
  "nbformat_minor": 0,
  "metadata": {
    "colab": {
      "provenance": []
    },
    "kernelspec": {
      "name": "python3",
      "display_name": "Python 3"
    },
    "language_info": {
      "name": "python"
    }
  },
  "cells": [
    {
      "cell_type": "markdown",
      "source": [
        "# Mini Project: Multinomial Naive Bayes"
      ],
      "metadata": {
        "id": "9lJ8wgaRcyzU"
      }
    },
    {
      "cell_type": "code",
      "execution_count": 1,
      "metadata": {
        "id": "WBFKF2xdcqFF"
      },
      "outputs": [],
      "source": [
        "#Kode program sebelumnya\n",
        "import numpy as np\n",
        "import pandas as pd\n",
        "pd.set_option('display.max_column', 20)"
      ]
    },
    {
      "cell_type": "code",
      "source": [
        "df = pd.read_excel('https://storage.googleapis.com/dqlab-dataset/credit_scoring_dqlab.xlsx')\n",
        "df.drop('kode_kontrak', axis=1, inplace=True)"
      ],
      "metadata": {
        "id": "oG5mRgGDc92y"
      },
      "execution_count": 2,
      "outputs": []
    },
    {
      "cell_type": "code",
      "source": [
        "y = df.pop('risk_rating').to_list()\n",
        "y = [4 if label == 5 else label for label in y]\n",
        "y = np.array(y)"
      ],
      "metadata": {
        "id": "oTTr8AHgc_0l"
      },
      "execution_count": 3,
      "outputs": []
    },
    {
      "cell_type": "code",
      "source": [
        "def convert_kpr_aktif(kpr_aktif):\n",
        "    if kpr_aktif == 'YA':\n",
        "        return 1\n",
        "    return 0\n",
        "df['kpr_aktif']= df['kpr_aktif'].apply(convert_kpr_aktif)"
      ],
      "metadata": {
        "id": "XQsBEAg2dCT9"
      },
      "execution_count": 4,
      "outputs": []
    },
    {
      "cell_type": "code",
      "source": [
        "def change_overdue(overdue):\n",
        "    if overdue == '0 - 30 days':\n",
        "        return 0\n",
        "    elif overdue == '31 - 45 days':\n",
        "        return 1\n",
        "    elif overdue == '46 - 60 days':\n",
        "        return 2\n",
        "    elif overdue == '61 - 90 days':\n",
        "        return 3\n",
        "    else:\n",
        "        return 4\n",
        "df['rata_rata_overdue'] = df['rata_rata_overdue'].apply(change_overdue)"
      ],
      "metadata": {
        "id": "t4_vNiDKdMwr"
      },
      "execution_count": 5,
      "outputs": []
    },
    {
      "cell_type": "code",
      "source": [
        "X = df.to_numpy()"
      ],
      "metadata": {
        "id": "w6cByZQUdX0z"
      },
      "execution_count": 6,
      "outputs": []
    },
    {
      "cell_type": "code",
      "source": [
        "#library yang digunakan untuk menghitung akurasi\n",
        "from sklearn.metrics import accuracy_score"
      ],
      "metadata": {
        "id": "Ac-08OS2dab_"
      },
      "execution_count": 7,
      "outputs": []
    },
    {
      "cell_type": "code",
      "source": [
        "#library yang digunakan untuk menggunakan model MNB\n",
        "from sklearn.naive_bayes import MultinomialNB"
      ],
      "metadata": {
        "id": "XGDbebBhdcUR"
      },
      "execution_count": 8,
      "outputs": []
    },
    {
      "cell_type": "code",
      "source": [
        "#library yang akan kita gunakan untuk membagi dataset menggunakan strategi validasi KFold\n",
        "from sklearn.model_selection import KFold"
      ],
      "metadata": {
        "id": "9zRueJIhdemE"
      },
      "execution_count": 9,
      "outputs": []
    },
    {
      "cell_type": "code",
      "source": [
        "#menginisialisasi object KFold dengan jumlah kelompok data = 10. nilai random_state kita gunakan reproducibility (agar data acak yang kita dapatkan untuk setiap kelompok data selalu sama)\n",
        "kf = KFold(n_splits = 10, shuffle=True, random_state = 57)"
      ],
      "metadata": {
        "id": "U3bpe2sudg4u"
      },
      "execution_count": 10,
      "outputs": []
    },
    {
      "cell_type": "code",
      "source": [
        "scores_test = []\n",
        "scores_train = []\n",
        "\n",
        "#meminta object kf untuk memecah data X ke sejumlah n kelompok dan mengiterasi setiap train_index dan test_index\n",
        "for train_index, test_index in kf.split(X):\n",
        "\tX_train, y_train = X[train_index], y[train_index]\n",
        "\tX_test, y_test = X[test_index], y[test_index]\n",
        "\tmodel = MultinomialNB()\n",
        "\n",
        "    #menspesifikasikan data latih beserta labelnya untuk dipelajari oleh model\n",
        "\tmodel.fit(X_train, y_train)\n",
        "\n",
        "    #meminta model yang telah dilatih untuk memprediksi data X_train\n",
        "\t#menampung hasil prediksi ke dalam variabel y_pred\n",
        "\ty_pred = model.predict(X_train)\n",
        "\n",
        "    #menampung akurasi dari model ke variabel current_score\n",
        "\tcurrent_score = accuracy_score(y_train, y_pred)\n",
        "    #menambahkan skor saat ini ke list scores\n",
        "\tscores_train.append(current_score)\n",
        "\n",
        "    #meminta model yang telah dilatih untuk memprediksi data X_test\n",
        "\t#menampung hasil prediksi ke dalam variabel y_pred\n",
        "\ty_pred = model.predict(X_test)\n",
        "\n",
        "    #menampung akurasi dari model ke variabel current_score\n",
        "\tcurrent_score = accuracy_score(y_test, y_pred)\n",
        "\n",
        "    #menambahkan skor saat ini ke list scores\n",
        "\tscores_test.append(current_score)"
      ],
      "metadata": {
        "id": "_FevBm6Bdi8Y"
      },
      "execution_count": 11,
      "outputs": []
    },
    {
      "cell_type": "code",
      "source": [
        "print(\"Skor latih tertinggi: \", round(max(scores_train),2))\n",
        "print(\"Skor latih terendah: \", round(min(scores_train),2))\n",
        "print(\"Skor latih rata-rata: \", round(sum(scores_train)/ len(scores_train),2))"
      ],
      "metadata": {
        "colab": {
          "base_uri": "https://localhost:8080/"
        },
        "id": "7gz1sYxKdn93",
        "outputId": "559dbd5b-ea4d-41ca-ac58-e6ee47fa9aee"
      },
      "execution_count": 12,
      "outputs": [
        {
          "output_type": "stream",
          "name": "stdout",
          "text": [
            "Skor latih tertinggi:  0.7\n",
            "Skor latih terendah:  0.69\n",
            "Skor latih rata-rata:  0.69\n"
          ]
        }
      ]
    },
    {
      "cell_type": "code",
      "source": [
        "print(\"Skor testing tertinggi: \", round(max(scores_test),2))\n",
        "print(\"Skor testing terendah: \", round(min(scores_test),2))\n",
        "print(\"Skor testing rata-rata: \", round(sum(scores_test)/ len(scores_test),2))"
      ],
      "metadata": {
        "colab": {
          "base_uri": "https://localhost:8080/"
        },
        "id": "kcGbEyMpdpyb",
        "outputId": "93e71ec2-e6c5-4be9-e393-f8e0b83b628e"
      },
      "execution_count": 13,
      "outputs": [
        {
          "output_type": "stream",
          "name": "stdout",
          "text": [
            "Skor testing tertinggi:  0.79\n",
            "Skor testing terendah:  0.61\n",
            "Skor testing rata-rata:  0.7\n"
          ]
        }
      ]
    },
    {
      "cell_type": "markdown",
      "source": [
        "# Mini Project: k-Nearest Neighbors\n",
        "\"Seperti saran dari Andra akupun mencoba dengan parameter yang lain, tetapi setelah banyak mencoba berbagai  model menurutku dengan nilai n_neighbors adalah model terbaik, nah sekarang aku akan mencoba dengan parameter lainnya, apakah hasilnya akan lebih baik,\" ucap Antara.\n",
        "\n",
        "Fungsi Jarak : euclidean, manhattan\n",
        "\n",
        "Jumlah tetangga : 2, 3, 4, 5, 6, 7, 8, 9, 11"
      ],
      "metadata": {
        "id": "jVg0x9P-dr1H"
      }
    },
    {
      "cell_type": "code",
      "source": [
        "from sklearn.neighbors import KNeighborsClassifier\n",
        "from sklearn.model_selection import GridSearchCV\n",
        "clf = KNeighborsClassifier()"
      ],
      "metadata": {
        "id": "5mQANriHd1aF"
      },
      "execution_count": 14,
      "outputs": []
    },
    {
      "cell_type": "code",
      "source": [
        "#parameter-parameter yang akan diujicobakan pada model\n",
        "parameter_space = {\n",
        "    'n_neighbors': [2, 3, 4, 5, 6, 7, 8, 9, 11],\n",
        "    'metric': ['euclidean', 'manhattan']\n",
        "}"
      ],
      "metadata": {
        "id": "h0QkkpNBd-zA"
      },
      "execution_count": 15,
      "outputs": []
    },
    {
      "cell_type": "code",
      "source": [
        "#menginisialisasi object GridSearchCV pada classifier, penjelasan terkait dengan parameter-parameter lain yang diterima pada object akan diberikan setelah potongan kode\n",
        "kfold = KFold(n_splits=5, shuffle=True,random_state=57)\n",
        "searcher = GridSearchCV(clf, parameter_space, scoring='accuracy', cv = kfold)"
      ],
      "metadata": {
        "id": "bBKCi4CNeBnD"
      },
      "execution_count": 16,
      "outputs": []
    },
    {
      "cell_type": "code",
      "source": [
        "#meminta object untuk memproses data X dan y.\n",
        "searcher.fit(X,y)\n",
        "\n",
        "print(\"Parameter terbaik: \", searcher.best_params_)\n",
        "print(\"Akurasi terbaik: \", searcher.best_score_)"
      ],
      "metadata": {
        "colab": {
          "base_uri": "https://localhost:8080/"
        },
        "id": "Wl3yjX8meGWB",
        "outputId": "b0ebddec-3544-4020-abf9-5ad5cee16ffd"
      },
      "execution_count": 17,
      "outputs": [
        {
          "output_type": "stream",
          "name": "stdout",
          "text": [
            "Parameter terbaik:  {'metric': 'manhattan', 'n_neighbors': 3}\n",
            "Akurasi terbaik:  0.7755555555555554\n"
          ]
        }
      ]
    }
  ]
}