{
  "nbformat": 4,
  "nbformat_minor": 0,
  "metadata": {
    "colab": {
      "provenance": []
    },
    "kernelspec": {
      "name": "python3",
      "display_name": "Python 3"
    },
    "language_info": {
      "name": "python"
    }
  },
  "cells": [
    {
      "cell_type": "markdown",
      "source": [
        "# Mini Project\n",
        "“Antara, coba deh terapin numpy.polyfit dan stats.linregress di datamu sebelumn menyerahkannya kepada Kroma,” saran Senja kepadaku.\n",
        "\n",
        "“Oke, langsung aku kerjakan ya.”\n",
        "\n",
        "1. mengimpor numpy sebagai aliasnya dan modul stats dari scipy,\n",
        "2. menggunakan kolom penjualan permen sebagai variabel bebas x dan kolom tingkat kunjungan ke dokter gigi sebagai variabel bergantungnya, y,\n",
        "3. menggunakan .polyfit dan memasukkan parameter variabel bebas, variabel bergantung dan pangkat fit polinom untuk kasus regresi ini. Hal demikian juga untuk .linregress. Lihat kembali bahasan numpy.polyfit dan stats.linregress.\n",
        "4. mencetak persamaan regresi linier dengan urutan slope dan intercept melalui salah satu hasil, yaitu hasil fitting dengan stats.linregress,\n",
        "5. menggunakan data variabel bebas yang belum digunakan (data September 1997 s/d Desember 1997) untuk memprediksi tingkat kunjungan ke dokter gigi, tentunya diterapkan ke dalam persamaan linier hasil regresi menggunakan hasil perhitungan slope dan intercept.\n",
        "\n",
        "\n"
      ],
      "metadata": {
        "id": "HMPxRz1v2bBW"
      }
    },
    {
      "cell_type": "code",
      "execution_count": 14,
      "metadata": {
        "colab": {
          "base_uri": "https://localhost:8080/"
        },
        "id": "JFRt46ez2Tg5",
        "outputId": "3cdbe1b2-69c2-4bc0-e190-b30445907250"
      },
      "outputs": [
        {
          "output_type": "stream",
          "name": "stdout",
          "text": [
            "   Bulan  Tahun  tingkat kunjungan ke dokter gigi\n",
            "0      1   1996                                37\n",
            "1      2   1996                                32\n",
            "2      3   1996                                56\n",
            "3      4   1996                                43\n",
            "4      5   1996                                52\n",
            "   No  Bulan  Tahun  penjualan permen  penjualan sereal  penjualan buah pisang\n",
            "0   1      1   1996            200661             10324                 112146\n",
            "1   2      2   1996            297141             13150                 175417\n",
            "2   3      3   1996            235586              5398                 104645\n",
            "3   4      4   1996            299498              7609                 112283\n",
            "4   5      5   1996            395824              5190                 137083\n"
          ]
        }
      ],
      "source": [
        "# Import pandas\n",
        "import pandas as pd\n",
        "# Baca kedua dataset\n",
        "df_kunjungan = pd.read_csv(\"https://storage.googleapis.com/dqlab-dataset/kunjungan_dokter_gigi_kota_x_dqlab.tsv\", sep=\"\\t\")\n",
        "df_penjualan = pd.read_csv(\"https://storage.googleapis.com/dqlab-dataset/tingkat_penjualan_kota_x_dqlab.tsv\", sep=\"\\t\")\n",
        "print(df_kunjungan.head())\n",
        "print(df_penjualan.head())"
      ]
    },
    {
      "cell_type": "code",
      "source": [
        "# Gabungkan kolom Tahun dan Bulan menjadi kolom Periode dengan isi tiap barisnya memiliki format YYYY-MM\n",
        "str_bulan = lambda x: \"0\"+str(x) if x<10 else str(x)\n",
        "df_kunjungan[\"Periode\"] = df_kunjungan[\"Tahun\"].map(str) + \"-\" + df_kunjungan[\"Bulan\"].map(str_bulan)\n",
        "df_penjualan[\"Periode\"] = df_penjualan[\"Tahun\"].map(str) + \"-\" + df_penjualan[\"Bulan\"].map(str_bulan)"
      ],
      "metadata": {
        "id": "9AKkM9Gb3CGm"
      },
      "execution_count": 15,
      "outputs": []
    },
    {
      "cell_type": "code",
      "source": [
        "# Drop kolom Tahun, Bulan dari df_kunjungan\n",
        "df_kunjungan.drop(columns=[\"Tahun\", \"Bulan\"], inplace=True)"
      ],
      "metadata": {
        "id": "OAcn6PU63Mzd"
      },
      "execution_count": 16,
      "outputs": []
    },
    {
      "cell_type": "code",
      "source": [
        "# Drop kolom Tahun, Bulan dan No dari df_penjualan\n",
        "df_penjualan.drop(columns=[\"Tahun\", \"Bulan\", \"No\"], inplace=True)"
      ],
      "metadata": {
        "id": "GHY9-aS03QvL"
      },
      "execution_count": 17,
      "outputs": []
    },
    {
      "cell_type": "code",
      "source": [
        "# Set index kolom Periode\n",
        "df_kunjungan.set_index(\"Periode\", inplace=True)\n",
        "df_penjualan.set_index(\"Periode\", inplace=True)"
      ],
      "metadata": {
        "id": "0uJ90OwW3TFM"
      },
      "execution_count": 18,
      "outputs": []
    },
    {
      "cell_type": "code",
      "source": [
        "# Gabungkan kedua dataframe dengan Periode yang telah menjadi key column nya\n",
        "df = df_kunjungan.join(df_penjualan)"
      ],
      "metadata": {
        "id": "NWvqZxRU3Ul7"
      },
      "execution_count": 19,
      "outputs": []
    },
    {
      "cell_type": "code",
      "source": [
        "# Importlah numpy sebagai np dan stats dari scipy\n",
        "import numpy as np\n",
        "from scipy import stats"
      ],
      "metadata": {
        "id": "OfuoBJSr3X8z"
      },
      "execution_count": 20,
      "outputs": []
    },
    {
      "cell_type": "code",
      "source": [
        "# Ambillah variabel bebas dan bergantung untuk keterlambatan 4 bulan\n",
        "# dan ubahlah menjadi numpy 1d narray\n",
        "x = df[\"penjualan permen\"][:-4].to_numpy()\n",
        "y = df[\"tingkat kunjungan ke dokter gigi\"][4:].to_numpy()"
      ],
      "metadata": {
        "id": "jpxrKunL3bS_"
      },
      "execution_count": 21,
      "outputs": []
    },
    {
      "cell_type": "code",
      "source": [
        "# Penggunaan numpy.polyfit\n",
        "print(\"Penggunaan numpy.polyfit:\")\n",
        "np_out = np.polyfit(x, y, 1)\n",
        "print(\"  Persamaan regresi linier: y = %.4e * x + %.4f\\n\" % (np_out[0], np_out[1]))"
      ],
      "metadata": {
        "colab": {
          "base_uri": "https://localhost:8080/"
        },
        "id": "F7AC9dbl3dw0",
        "outputId": "aaa0a7a3-8898-462d-c5d2-caef496710ba"
      },
      "execution_count": 22,
      "outputs": [
        {
          "output_type": "stream",
          "name": "stdout",
          "text": [
            "Penggunaan numpy.polyfit:\n",
            "  Persamaan regresi linier: y = 2.3035e-04 * x + 12.9341\n",
            "\n"
          ]
        }
      ]
    },
    {
      "cell_type": "code",
      "source": [
        "# Penggunaan stats.linregress\n",
        "print(\"Penggunaan stats.linregress dari scipy:\")\n",
        "sclr_out = stats.linregress(x, y)\n",
        "print(\"  Persamaan regresi linier: y = %.4e * x + %.4f\\n\" % (sclr_out.slope, sclr_out.intercept))\n",
        "# Gunakan salah satu nilai saja dari np_out atau sclr_out\n",
        "# untuk koefisien regresi liniernya (gunakan sclr_out)"
      ],
      "metadata": {
        "colab": {
          "base_uri": "https://localhost:8080/"
        },
        "id": "qxwI-B9F3gDz",
        "outputId": "edc81b9e-32ab-45fb-bb5e-8ae5a2ccbc9c"
      },
      "execution_count": 23,
      "outputs": [
        {
          "output_type": "stream",
          "name": "stdout",
          "text": [
            "Penggunaan stats.linregress dari scipy:\n",
            "  Persamaan regresi linier: y = 2.3035e-04 * x + 12.9341\n",
            "\n"
          ]
        }
      ]
    },
    {
      "cell_type": "code",
      "source": [
        "# Ambillah butir data variabel bebas yang belum digunakan\n",
        "x_new = df[\"penjualan permen\"][-4:].to_numpy()"
      ],
      "metadata": {
        "id": "jeOclgpz3ox0"
      },
      "execution_count": 24,
      "outputs": []
    },
    {
      "cell_type": "code",
      "source": [
        "#Gunakan x_new ke dalam persamaan regresi linier\n",
        "y_pred = sclr_out.slope * x_new + sclr_out.intercept\n",
        "print(\"Prediksi tingkat kunjungan ke dokter gigi 1998-01 s/d 1998-04:\")\n",
        "for i, kunjungan in enumerate(y_pred):\n",
        "    print(\"1998-0%d: %4d kunjungan.\" % (i+1, round(kunjungan)))"
      ],
      "metadata": {
        "colab": {
          "base_uri": "https://localhost:8080/"
        },
        "id": "T0XKtBM03wkH",
        "outputId": "ff4b2208-fc10-425d-e7cc-f5c7307905a8"
      },
      "execution_count": 25,
      "outputs": [
        {
          "output_type": "stream",
          "name": "stdout",
          "text": [
            "Prediksi tingkat kunjungan ke dokter gigi 1998-01 s/d 1998-04:\n",
            "1998-01:   73 kunjungan.\n",
            "1998-02:   87 kunjungan.\n",
            "1998-03:  121 kunjungan.\n",
            "1998-04:  112 kunjungan.\n"
          ]
        }
      ]
    }
  ]
}