{
  "nbformat": 4,
  "nbformat_minor": 0,
  "metadata": {
    "colab": {
      "provenance": []
    },
    "kernelspec": {
      "name": "python3",
      "display_name": "Python 3"
    },
    "language_info": {
      "name": "python"
    }
  },
  "cells": [
    {
      "cell_type": "markdown",
      "source": [
        "# Mini Project\n",
        "Setelah mengerjakan kasus dari Kroma, aku dapet kasus lagi! Kali ini lebih sederhana tapi enggak bisa kuanggap remeh juga. Jadi, perusahaan retail tempat aku bekerja akan membuka toko offline. Di dalam toko tersebut, mereka berencana untuk melakukan peletakkan produk. Di mana produk yang memiliki asosiasi, harus diletakan berdekatan.\n",
        "\n",
        "Oleh karena itu, aku ditugaskan untuk menyiapkan data yang dapat dianalisis sebagai pendukung keputusan peletakan produk di toko tersebut. Untuk menyelesaikan tugasku, aku kembali menggunakan teknik Market Basket Analysis menggunakan algoritma Apriori yang sudah aku pelajari.\n",
        "\n",
        "Aku akan menggunakan parameter min_support=0.04.\n",
        "\n",
        "So, here we go!"
      ],
      "metadata": {
        "id": "UOEwWPMA62sy"
      }
    },
    {
      "cell_type": "code",
      "execution_count": 1,
      "metadata": {
        "id": "7ZN5Xn2-6gUa"
      },
      "outputs": [],
      "source": [
        "#membaca file dengan pandas\n",
        "import pandas as pd"
      ]
    },
    {
      "cell_type": "code",
      "source": [
        "#gunakan function yang digunakan sama dengan membaca file csv\n",
        "dataset_transaksi = pd.read_csv('https://storage.googleapis.com/dqlab-dataset/transaksi_dqlab_retail.tsv', sep='\\t')\n",
        "dataset_transaksi.head()\n",
        "dataset_transaksi['Flag'] = 1"
      ],
      "metadata": {
        "id": "JhqYfTWI681Q"
      },
      "execution_count": 2,
      "outputs": []
    },
    {
      "cell_type": "code",
      "source": [
        "#kelompokkan Kode Transaksi dan Nama Barang dengan menjumlahkan Flag\n",
        "basket = dataset_transaksi.groupby(['Kode Transaksi','Nama Barang'])['Flag'].sum().unstack().reset_index().fillna(0).set_index('Kode Transaksi')"
      ],
      "metadata": {
        "id": "GxuHp1F97BYB"
      },
      "execution_count": 3,
      "outputs": []
    },
    {
      "cell_type": "code",
      "source": [
        "#Membuat function untuk menormalisasi data\n",
        "def encode_units(x):\n",
        "\tif x <= 0:\n",
        "\t\treturn 0\n",
        "\tif x > 0:\n",
        "\t\treturn 1"
      ],
      "metadata": {
        "id": "WQuVPwqN7Hc0"
      },
      "execution_count": 4,
      "outputs": []
    },
    {
      "cell_type": "code",
      "source": [
        "#menerapkan fungsi yang telah dibuat untuk menormalisasi data\n",
        "basket_encode = basket.applymap(encode_units)"
      ],
      "metadata": {
        "id": "tPDaEJ6y7J2u"
      },
      "execution_count": 5,
      "outputs": []
    },
    {
      "cell_type": "code",
      "source": [
        "from mlxtend.frequent_patterns import apriori\n",
        "from mlxtend.frequent_patterns import association_rules"
      ],
      "metadata": {
        "id": "7Lyj9XGU7OXh"
      },
      "execution_count": 6,
      "outputs": []
    },
    {
      "cell_type": "code",
      "source": [
        "#menerapkan algoritma untuk apriori parameter untuk menentukan nilai minimal dari Support\n",
        "frequent_itemset = apriori(basket_encode, min_support=0.04, use_colnames=True)\n",
        "print(frequent_itemset)"
      ],
      "metadata": {
        "colab": {
          "base_uri": "https://localhost:8080/"
        },
        "id": "sc5H6Trs7Q5O",
        "outputId": "1347c853-1a41-42d8-e7ac-da83ee66c4c3"
      },
      "execution_count": 7,
      "outputs": [
        {
          "output_type": "stream",
          "name": "stderr",
          "text": [
            "/usr/local/lib/python3.10/dist-packages/ipykernel/ipkernel.py:283: DeprecationWarning: `should_run_async` will not call `transform_cell` automatically in the future. Please pass the result to `transformed_cell` argument and any exception that happen during thetransform in `preprocessing_exc_tuple` in IPython 7.17 and above.\n",
            "  and should_run_async(code)\n",
            "/usr/local/lib/python3.10/dist-packages/mlxtend/frequent_patterns/fpcommon.py:110: DeprecationWarning: DataFrames with non-bool types result in worse computationalperformance and their support might be discontinued in the future.Please use a DataFrame with bool type\n",
            "  warnings.warn(\n"
          ]
        },
        {
          "output_type": "stream",
          "name": "stdout",
          "text": [
            "      support                                           itemsets\n",
            "0    0.118841                                (Atasan Kaos Putih)\n",
            "1    0.380290                                (Baju Batik Wanita)\n",
            "2    0.121159                 (Baju Kaos Anak - Karakter Kartun)\n",
            "3    0.115942                     (Baju Kaos Anak - Superheroes)\n",
            "4    0.089275                               (Baju Kaos Olahraga)\n",
            "..        ...                                                ...\n",
            "744  0.049855  (Sepatu Sekolah Hitam W, Serum Vitamin, Shampo...\n",
            "745  0.047826  (Tali Pinggang Gesper Pria, Serum Vitamin, Sha...\n",
            "746  0.045797  (Baju Batik Wanita, Serum Vitamin, Koper Fiber...\n",
            "747  0.042609  (Baju Kemeja Putih, Serum Vitamin, Shampo Bias...\n",
            "748  0.047536  (Sepatu Sekolah Hitam W, Blouse Denim, Serum V...\n",
            "\n",
            "[749 rows x 2 columns]\n"
          ]
        }
      ]
    },
    {
      "cell_type": "code",
      "source": [
        "#menerapkan aturan untuk mencari asosiasi antar produk gunakan dataset yang telah diterapkan apriori diurutkan berdasarkan metrik yang digunakan\n",
        "rules = association_rules(frequent_itemset, metric='lift', min_threshold=1).sort_values('lift', ascending=False).reset_index(drop=True)\n",
        "print(rules)"
      ],
      "metadata": {
        "colab": {
          "base_uri": "https://localhost:8080/"
        },
        "id": "mkbyqbN77VqG",
        "outputId": "612cbacc-4bb9-4f52-833a-550eb5c42649"
      },
      "execution_count": 8,
      "outputs": [
        {
          "output_type": "stream",
          "name": "stdout",
          "text": [
            "                                  antecedents  \\\n",
            "0               (Tank Top, Atasan Kaos Putih)   \n",
            "1     (Gembok Koper, Baju Renang Pria Dewasa)   \n",
            "2         (Tank Top, Baju Renang Pria Dewasa)   \n",
            "3           (Atasan Kaos Putih, Gembok Koper)   \n",
            "4     (Wedges Hitam, Baju Renang Pria Dewasa)   \n",
            "...                                       ...   \n",
            "2561                   (Celana Jogger Casual)   \n",
            "2562              (Baju Renang Wanita Dewasa)   \n",
            "2563            (Serum Vitamin, Shampo Biasa)   \n",
            "2564           (Serum Vitamin, Tas Waist Bag)   \n",
            "2565                      (Baju Kemeja Putih)   \n",
            "\n",
            "                                           consequents  antecedent support  \\\n",
            "0              (Gembok Koper, Baju Renang Pria Dewasa)            0.053913   \n",
            "1                        (Tank Top, Atasan Kaos Putih)            0.046087   \n",
            "2                    (Atasan Kaos Putih, Gembok Koper)            0.051884   \n",
            "3                  (Tank Top, Baju Renang Pria Dewasa)            0.048986   \n",
            "4                    (Atasan Kaos Putih, Gembok Koper)            0.052754   \n",
            "...                                                ...                 ...   \n",
            "2561  (Serum Vitamin, Shampo Biasa, Baju Kemeja Putih)            0.329275   \n",
            "2562                     (Serum Vitamin, Shampo Biasa)            0.142899   \n",
            "2563                       (Baju Renang Wanita Dewasa)            0.316232   \n",
            "2564                               (Baju Kemeja Putih)            0.129855   \n",
            "2565                    (Serum Vitamin, Tas Waist Bag)            0.363768   \n",
            "\n",
            "      consequent support   support  confidence       lift  leverage  \\\n",
            "0               0.046087  0.041159    0.763441  16.565226  0.038675   \n",
            "1               0.053913  0.041159    0.893082  16.565226  0.038675   \n",
            "2               0.048986  0.041159    0.793296  16.194506  0.038618   \n",
            "3               0.051884  0.041159    0.840237  16.194506  0.038618   \n",
            "4               0.048986  0.040580    0.769231  15.703232  0.037996   \n",
            "...                  ...       ...         ...        ...       ...   \n",
            "2561            0.132754  0.043768    0.132923   1.001272  0.000056   \n",
            "2562            0.316232  0.045217    0.316430   1.000627  0.000028   \n",
            "2563            0.142899  0.045217    0.142988   1.000627  0.000028   \n",
            "2564            0.363768  0.047246    0.363839   1.000196  0.000009   \n",
            "2565            0.129855  0.047246    0.129880   1.000196  0.000009   \n",
            "\n",
            "      conviction  zhangs_metric  \n",
            "0       4.032451       0.993178  \n",
            "1       8.848696       0.985030  \n",
            "2       4.600854       0.989595  \n",
            "3       5.934503       0.986579  \n",
            "4       4.121063       0.988464  \n",
            "...          ...            ...  \n",
            "2561    1.000195       0.001895  \n",
            "2562    1.000290       0.000731  \n",
            "2563    1.000104       0.000916  \n",
            "2564    1.000112       0.000225  \n",
            "2565    1.000029       0.000307  \n",
            "\n",
            "[2566 rows x 10 columns]\n"
          ]
        },
        {
          "output_type": "stream",
          "name": "stderr",
          "text": [
            "/usr/local/lib/python3.10/dist-packages/ipykernel/ipkernel.py:283: DeprecationWarning: `should_run_async` will not call `transform_cell` automatically in the future. Please pass the result to `transformed_cell` argument and any exception that happen during thetransform in `preprocessing_exc_tuple` in IPython 7.17 and above.\n",
            "  and should_run_async(code)\n"
          ]
        }
      ]
    }
  ]
}